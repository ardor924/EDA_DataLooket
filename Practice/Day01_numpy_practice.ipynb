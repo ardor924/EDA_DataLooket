{
 "cells": [
  {
   "cell_type": "markdown",
   "metadata": {},
   "source": [
    "## **Title Name : 넘파이 문제풀이**\n",
    "\n",
    "<p style=\"font-weight:bolder; font-size : 21px\">\n",
    "    Step : Day1\n",
    "<p>\n",
    "<p style=\"font-weight:bolder; font-size : 21px\">\n",
    "    Content : 커스텀 문제풀이 1번~10번\n",
    "<p>\n",
    "<p style=\"font-weight:bolder; font-size : 21px\">\n",
    "   RegDate : 2023.11.25\n",
    "<p>\n",
    "\n",
    "------------------------------------------------------------"
   ]
  },
  {
   "cell_type": "markdown",
   "metadata": {},
   "source": [
    "# 01. 환경설정\n",
    "---------------------------------------------"
   ]
  },
  {
   "cell_type": "code",
   "execution_count": null,
   "metadata": {},
   "outputs": [],
   "source": [
    "# 시스템\n",
    "import os\n",
    "import sys\n",
    "import random\n",
    "from time import time\n",
    "\n",
    "# 데이터분석 4종세트\n",
    "import numpy as np\n",
    "import pandas as pd\n",
    "import seaborn as sns\n",
    "import matplotlib.pyplot as plt\n",
    "%matplotlib inline\n",
    "\n",
    "# 시각화테마\n",
    "sns.set_theme(style='whitegrid')\n",
    "plt.style.use('dark_background')"
   ]
  },
  {
   "cell_type": "markdown",
   "metadata": {},
   "source": [
    "# 02. 문제풀이\n",
    "------------------------------------------"
   ]
  },
  {
   "cell_type": "markdown",
   "metadata": {},
   "source": [
    "### Q1. ~ Q10.\n",
    "------------------------------------------\n",
    "[참고사이트 : [Numpy] Numpy 문제 모음 정답 및 설명 (100 numpy exercises) - ing ](https://u-n-joe.tistory.com/94) "
   ]
  },
  {
   "cell_type": "code",
   "execution_count": 1,
   "metadata": {},
   "outputs": [],
   "source": [
    "# 1. np이름으로 numpy 패키지 가져오기 \n",
    "#-------------------------------------\n",
    "import numpy as np"
   ]
  },
  {
   "cell_type": "code",
   "execution_count": 5,
   "metadata": {},
   "outputs": [
    {
     "name": "stdout",
     "output_type": "stream",
     "text": [
      "numpy_Ver : 1.25.2버전\n"
     ]
    }
   ],
   "source": [
    "# 2.  numpy 버전 출력\n",
    "#-------------------------------------\n",
    "print(f'numpy_Ver : {np.__version__}버전')"
   ]
  },
  {
   "cell_type": "code",
   "execution_count": 6,
   "metadata": {},
   "outputs": [
    {
     "data": {
      "text/plain": [
       "array([0., 0., 0., 0., 0., 0., 0., 0., 0., 0.])"
      ]
     },
     "execution_count": 6,
     "metadata": {},
     "output_type": "execute_result"
    }
   ],
   "source": [
    "# 3. 사이즈 10의 Null 벡터를 생성\n",
    "#-------------------------------------\n",
    "Z = np.zeros(10)\n",
    "Z"
   ]
  },
  {
   "cell_type": "code",
   "execution_count": 28,
   "metadata": {},
   "outputs": [
    {
     "name": "stdout",
     "output_type": "stream",
     "text": [
      "555\n"
     ]
    }
   ],
   "source": [
    "# 4. 크기 10의 Null 벡터를 생성하고, \n",
    "#    두 번째 값인 555을 출력\n",
    "#-------------------------------------\n",
    "Z = np.zeros(10)\n",
    "Z[1] = 555\n",
    "print(int(Z[1]))"
   ]
  },
  {
   "cell_type": "code",
   "execution_count": 15,
   "metadata": {},
   "outputs": [
    {
     "data": {
      "text/plain": [
       "array([10, 11, 12, 13, 14, 15, 16, 17, 18, 19, 20, 21, 22, 23, 24, 25, 26,\n",
       "       27, 28, 29, 30, 31, 32, 33, 34, 35, 36, 37, 38, 39, 40, 41, 42, 43,\n",
       "       44, 45, 46, 47, 48, 49])"
      ]
     },
     "execution_count": 15,
     "metadata": {},
     "output_type": "execute_result"
    }
   ],
   "source": [
    "# 5. 값이 10 ~ 49인 벡터를생성\n",
    "#-------------------------------------\n",
    "Z = np.arange(10,49+1)\n",
    "Z"
   ]
  },
  {
   "cell_type": "code",
   "execution_count": 22,
   "metadata": {},
   "outputs": [
    {
     "data": {
      "text/plain": [
       "array([49, 48, 47, 46, 45, 44, 43, 42, 41, 40, 39, 38, 37, 36, 35, 34, 33,\n",
       "       32, 31, 30, 29, 28, 27, 26, 25, 24, 23, 22, 21, 20, 19, 18, 17, 16,\n",
       "       15, 14, 13, 12, 11, 10])"
      ]
     },
     "execution_count": 22,
     "metadata": {},
     "output_type": "execute_result"
    }
   ],
   "source": [
    "# 6. 벡터를 반전하기\n",
    "#------------------------------------\n",
    "Z[::-1]"
   ]
  },
  {
   "cell_type": "code",
   "execution_count": 24,
   "metadata": {},
   "outputs": [
    {
     "data": {
      "text/plain": [
       "array([[0, 1, 2],\n",
       "       [3, 4, 5],\n",
       "       [6, 7, 8]])"
      ]
     },
     "execution_count": 24,
     "metadata": {},
     "output_type": "execute_result"
    }
   ],
   "source": [
    "# 7. 0~8 범위의 값을 사용하여 3x3 매트릭스 만들기\n",
    "#-------------------------------------\n",
    "np.arange(0,8+1).reshape(3,3)\n",
    "# np.arange(8+1).reshape(3,3)\n",
    "# np.arange(9).reshape(3,3)"
   ]
  },
  {
   "cell_type": "code",
   "execution_count": 26,
   "metadata": {},
   "outputs": [
    {
     "data": {
      "text/plain": [
       "(array([0, 0, 0], dtype=int64), array([0, 1, 4], dtype=int64))"
      ]
     },
     "execution_count": 26,
     "metadata": {},
     "output_type": "execute_result"
    }
   ],
   "source": [
    "# 8. [1,2,0,0,4,0]에서 0이 아닌 요소의 인덱스를 출력\n",
    "#-------------------------------------\n",
    "nz = np.nonzero([[1,2,0,0,4,0]])\n",
    "nz"
   ]
  },
  {
   "cell_type": "code",
   "execution_count": 27,
   "metadata": {},
   "outputs": [
    {
     "data": {
      "text/plain": [
       "array([[1., 0., 0.],\n",
       "       [0., 1., 0.],\n",
       "       [0., 0., 1.]])"
      ]
     },
     "execution_count": 27,
     "metadata": {},
     "output_type": "execute_result"
    }
   ],
   "source": [
    "# 9. 3x3 매트릭스 생성\n",
    "#-------------------------------------\n",
    "Z = np.eye(3)\n",
    "Z"
   ]
  },
  {
   "cell_type": "code",
   "execution_count": 29,
   "metadata": {},
   "outputs": [
    {
     "data": {
      "text/plain": [
       "array([[[0.04042131, 0.66668006, 0.12690814],\n",
       "        [0.43236739, 0.78257997, 0.75932465],\n",
       "        [0.69259607, 0.0216142 , 0.58182896]],\n",
       "\n",
       "       [[0.07922313, 0.90104589, 0.68555846],\n",
       "        [0.74789266, 0.4646186 , 0.60738994],\n",
       "        [0.57634439, 0.91321239, 0.53508614]],\n",
       "\n",
       "       [[0.807125  , 0.77896227, 0.93213329],\n",
       "        [0.26755095, 0.70598851, 0.48913011],\n",
       "        [0.72928193, 0.45020408, 0.93088087]]])"
      ]
     },
     "execution_count": 29,
     "metadata": {},
     "output_type": "execute_result"
    }
   ],
   "source": [
    "# 10. 랜덤 값이 있는 3x3x3 어레이 생성\n",
    "#-------------------------------------\n",
    "Z = np.random.random((3,3,3))\n",
    "Z"
   ]
  },
  {
   "cell_type": "code",
   "execution_count": null,
   "metadata": {},
   "outputs": [],
   "source": [
    "#\n",
    "#-------------------------------------"
   ]
  }
 ],
 "metadata": {
  "kernelspec": {
   "display_name": "EDA",
   "language": "python",
   "name": "python3"
  },
  "language_info": {
   "codemirror_mode": {
    "name": "ipython",
    "version": 3
   },
   "file_extension": ".py",
   "mimetype": "text/x-python",
   "name": "python",
   "nbconvert_exporter": "python",
   "pygments_lexer": "ipython3",
   "version": "3.9.1"
  }
 },
 "nbformat": 4,
 "nbformat_minor": 2
}
