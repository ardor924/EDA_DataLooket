{
 "cells": [
  {
   "cell_type": "markdown",
   "metadata": {},
   "source": [
    "## **Title Name : 넘파이 문제풀이**\n",
    "\n",
    "<p style=\"font-weight:bolder; font-size : 21px\">\n",
    "    Step : Day1\n",
    "<p>\n",
    "<p style=\"font-weight:bolder; font-size : 21px\">\n",
    "    Content : 커스텀 문제풀이 1번~10번\n",
    "<p>\n",
    "<p style=\"font-weight:bolder; font-size : 21px\">\n",
    "   RegDate : 2023.11.25\n",
    "<p>\n",
    "\n",
    "------------------------------------------------------------"
   ]
  },
  {
   "cell_type": "markdown",
   "metadata": {},
   "source": [
    "# 01. 환경설정\n",
    "---------------------------------------------"
   ]
  },
  {
   "cell_type": "code",
   "execution_count": null,
   "metadata": {},
   "outputs": [],
   "source": [
    "# 시스템\n",
    "import os\n",
    "import sys\n",
    "import random\n",
    "from time import time\n",
    "\n",
    "# 데이터분석 4종세트\n",
    "import numpy as np\n",
    "import pandas as pd\n",
    "import seaborn as sns\n",
    "import matplotlib.pyplot as plt\n",
    "%matplotlib inline\n",
    "\n",
    "# 시각화테마\n",
    "sns.set_theme(style='whitegrid')\n",
    "plt.style.use('dark_background')"
   ]
  },
  {
   "cell_type": "markdown",
   "metadata": {},
   "source": [
    "# 02. 문제풀이\n",
    "------------------------------------------"
   ]
  },
  {
   "cell_type": "markdown",
   "metadata": {},
   "source": [
    "### Q111 ~ Q999\n",
    "------------------------------------------\n",
    "[참고사이트 : [Numpy] Numpy 문제 모음 정답 및 설명 (100 numpy exercises) - ing ](https://u-n-joe.tistory.com/94) "
   ]
  },
  {
   "cell_type": "code",
   "execution_count": 1,
   "metadata": {},
   "outputs": [],
   "source": [
    "#\n",
    "#-------------------------------------"
   ]
  }
 ],
 "metadata": {
  "kernelspec": {
   "display_name": "EDA",
   "language": "python",
   "name": "python3"
  },
  "language_info": {
   "codemirror_mode": {
    "name": "ipython",
    "version": 3
   },
   "file_extension": ".py",
   "mimetype": "text/x-python",
   "name": "python",
   "nbconvert_exporter": "python",
   "pygments_lexer": "ipython3",
   "version": "3.9.1"
  }
 },
 "nbformat": 4,
 "nbformat_minor": 2
}
