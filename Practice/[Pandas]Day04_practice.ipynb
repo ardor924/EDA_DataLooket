{
 "cells": [
  {
   "cell_type": "markdown",
   "metadata": {},
   "source": [
    "## **Title Name : 판다스 문제풀이**\n",
    "\n",
    "<p style=\"font-weight:bolder; font-size : 21px\">\n",
    "    Step :  Day4\n",
    "<p>\n",
    "<p style=\"font-weight:bolder; font-size : 21px\">\n",
    "    Content : 커스텀 문제풀이\n",
    "<p>\n",
    "<p style=\"font-weight:bolder; font-size : 21px\">\n",
    "   RegDate : 2023.12.04\n",
    "<p>\n",
    "\n",
    "------------------------------------------------------------"
   ]
  },
  {
   "cell_type": "markdown",
   "metadata": {},
   "source": [
    "\n",
    "<h2 style=\"font-weight:bolder; font-size : 25px\">\n",
    "문제풀이 : \n",
    "Q56 ~ Q62\n",
    "<h2>\n",
    "\n",
    "------------------------------------------------------"
   ]
  },
  {
   "cell_type": "markdown",
   "metadata": {},
   "source": [
    "# 01. 환경설정\n",
    "---------------------------------------------"
   ]
  },
  {
   "cell_type": "code",
   "execution_count": 1,
   "metadata": {},
   "outputs": [],
   "source": [
    "# 시스템\n",
    "import os\n",
    "import sys\n",
    "import random\n",
    "from time import time\n",
    "\n",
    "# 데이터분석 4종세트\n",
    "import numpy as np\n",
    "import pandas as pd\n",
    "import seaborn as sns\n",
    "import matplotlib.pyplot as plt\n",
    "%matplotlib inline\n",
    "\n",
    "# 시각화테마\n",
    "sns.set_theme(style='whitegrid')\n",
    "plt.style.use('dark_background')"
   ]
  },
  {
   "cell_type": "code",
   "execution_count": 2,
   "metadata": {},
   "outputs": [],
   "source": [
    "# 답안 초기화\n",
    "Q0 = 0"
   ]
  },
  {
   "cell_type": "markdown",
   "metadata": {},
   "source": [
    "# 02. 문제풀이\n",
    "------------------------------------------"
   ]
  },
  {
   "cell_type": "markdown",
   "metadata": {},
   "source": [
    "### 🔹 참고 사이트 링크\n",
    "------------------------------------------\n",
    "[참고 사이트 : 판다스 연습 튜토리얼](https://www.datamanim.com/dataset/99_pandas/pandasMain.html) "
   ]
  },
  {
   "cell_type": "code",
   "execution_count": 3,
   "metadata": {},
   "outputs": [
    {
     "data": {
      "text/plain": [
       "\"-------------------------------------------------------------------------------------------------------------------------------------------------------------------\\n🟨 데이터셋 URL 정보\\n\\n+ Q44~Q55     :\\n- info : 카드이용데이터 : https://www.kaggle.com/sakshigoyal7/credit-card-customers \\n▶ url :\\n'https://raw.githubusercontent.com/Datamanim/pandas/main/BankChurnersUp.csv'\\n\\n\\n-------------------------------------------------------------------------------------------------------------------------------------------------------------------\""
      ]
     },
     "execution_count": 3,
     "metadata": {},
     "output_type": "execute_result"
    }
   ],
   "source": [
    "\"\"\"-------------------------------------------------------------------------------------------------------------------------------------------------------------------\n",
    "🟨 데이터셋 URL 정보\n",
    "\n",
    "+ Q56~Q62     :\n",
    "- info : 카드이용데이터 : https://www.kaggle.com/sakshigoyal7/credit-card-customers \n",
    "▶ url :\n",
    "'https://raw.githubusercontent.com/Datamanim/pandas/main/BankChurnersUp.csv'\n",
    "\n",
    "\n",
    "-------------------------------------------------------------------------------------------------------------------------------------------------------------------\"\"\""
   ]
  },
  {
   "cell_type": "markdown",
   "metadata": {},
   "source": [
    "#### 04_Apply , Map\n",
    "-----------------------------------------------------"
   ]
  },
  {
   "cell_type": "code",
   "execution_count": 4,
   "metadata": {},
   "outputs": [],
   "source": [
    "# Q56. 데이터로드\n",
    "#-------------------------------------\n",
    "df = pd.read_csv('https://raw.githubusercontent.com/Datamanim/pandas/main/BankChurnersUp.csv')"
   ]
  },
  {
   "cell_type": "code",
   "execution_count": 6,
   "metadata": {},
   "outputs": [
    {
     "data": {
      "text/plain": [
       "(10127, 19)"
      ]
     },
     "execution_count": 6,
     "metadata": {},
     "output_type": "execute_result"
    }
   ],
   "source": [
    "# Q56. 행과 열의 갯수를 출력\n",
    "#-------------------------------------\n",
    "Q56 = df.shape\n",
    "Q56"
   ]
  },
  {
   "cell_type": "code",
   "execution_count": 7,
   "metadata": {},
   "outputs": [
    {
     "data": {
      "text/plain": [
       "0        c\n",
       "1        a\n",
       "2        d\n",
       "3        a\n",
       "4        c\n",
       "        ..\n",
       "10122    b\n",
       "10123    b\n",
       "10124    a\n",
       "10125    b\n",
       "10126    a\n",
       "Name: newIncome, Length: 10127, dtype: object"
      ]
     },
     "execution_count": 7,
     "metadata": {},
     "output_type": "execute_result"
    }
   ],
   "source": [
    "# Q57. Income_Category의 카테고리를 map 함수를 이용하여 다음과 같이 변경하여 newIncome 컬럼에 매핑\n",
    "# 예시 :\n",
    "'''\n",
    "        Unknown : N\n",
    "        Less than $40K : a\n",
    "        $40K - $60K : b\n",
    "        $60K - $80K : c\n",
    "        $80K - $120K : d\n",
    "        $120K + : e\n",
    "'''\n",
    "#-------------------------------------\n",
    "dict = {\n",
    "            'Unknown'        : 'N',\n",
    "            'Less than $40K' : 'a',\n",
    "            '$40K - $60K'    : 'b',\n",
    "            '$60K - $80K'    : 'c',\n",
    "            '$80K - $120K'   : 'd',\n",
    "            '$120K +'        : 'e'     \n",
    "       }\n",
    "df['newIncome']  = df.Income_Category.map(lambda x: dict[x])\n",
    "Q57 = df['newIncome']\n",
    "Q57"
   ]
  },
  {
   "cell_type": "code",
   "execution_count": 8,
   "metadata": {},
   "outputs": [
    {
     "data": {
      "text/plain": [
       "0        c\n",
       "1        a\n",
       "2        d\n",
       "3        a\n",
       "4        c\n",
       "        ..\n",
       "10122    b\n",
       "10123    b\n",
       "10124    a\n",
       "10125    b\n",
       "10126    a\n",
       "Name: newIncome, Length: 10127, dtype: object"
      ]
     },
     "execution_count": 8,
     "metadata": {},
     "output_type": "execute_result"
    }
   ],
   "source": [
    "# Q58. Income_Category의 카테고리를 apply 함수를 이용하여 다음과 같이 변경하여 newIncome 컬럼에 매핑\n",
    "# 예시 :\n",
    "'''\n",
    "        Unknown : N\n",
    "        Less than $40K : a\n",
    "        $40K - $60K : b\n",
    "        $60K - $80K : c\n",
    "        $80K - $120K : d\n",
    "        $120K + : e\n",
    "'''\n",
    "#-------------------------------------\n",
    "def changeCategory(x):\n",
    "    if x =='Unknown':\n",
    "        return 'N'\n",
    "    elif x =='Less than $40K':\n",
    "        return 'a'\n",
    "    elif x =='$40K - $60K':   \n",
    "        return 'b'\n",
    "    elif x =='$60K - $80K':    \n",
    "        return 'c'\n",
    "    elif x =='$80K - $120K':   \n",
    "        return 'd'\n",
    "    elif x =='$120K +' :     \n",
    "        return 'e'\n",
    "\n",
    "df['newIncome']  =df.Income_Category.apply(changeCategory)\n",
    "Q58 = df['newIncome']\n",
    "Q58"
   ]
  },
  {
   "cell_type": "code",
   "execution_count": 9,
   "metadata": {},
   "outputs": [
    {
     "data": {
      "text/plain": [
       "AgeState\n",
       "20     195\n",
       "30    1841\n",
       "40    4561\n",
       "50    2998\n",
       "60     530\n",
       "70       2\n",
       "Name: count, dtype: int64"
      ]
     },
     "execution_count": 9,
     "metadata": {},
     "output_type": "execute_result"
    }
   ],
   "source": [
    "# Q59. Customer_Age의 값을 이용하여 나이 구간을 AgeState 컬럼으로 정의하고\n",
    "#      0~9 : 0 , 10~19 :10 , 20~29 :20 … 각 구간의 빈도수를 출력\n",
    "#-------------------------------------\n",
    "df['AgeState']  = df.Customer_Age.map(lambda x: x//10 *10)\n",
    "Q59 = df['AgeState'].value_counts().sort_index()\n",
    "Q59"
   ]
  },
  {
   "cell_type": "code",
   "execution_count": 10,
   "metadata": {},
   "outputs": [
    {
     "data": {
      "text/plain": [
       "newEduLevel\n",
       "0    6483\n",
       "1    3644\n",
       "Name: count, dtype: int64"
      ]
     },
     "execution_count": 10,
     "metadata": {},
     "output_type": "execute_result"
    }
   ],
   "source": [
    "# Q60. Education_Level의 값중 Graduate단어가 포함되는 값은 1, 그렇지 않은 경우에는 0으로 변경하여\n",
    "#      newEduLevel 컬럼을 정의하고 빈도수를 출력\n",
    "#-------------------------------------\n",
    "df['newEduLevel'] = df.Education_Level.map(lambda x : 1 if 'Graduate' in x else 0)\n",
    "Q60 = df['newEduLevel'].value_counts()\n",
    "Q60"
   ]
  },
  {
   "cell_type": "code",
   "execution_count": 11,
   "metadata": {},
   "outputs": [
    {
     "data": {
      "text/plain": [
       "newLimit\n",
       "1    5096\n",
       "0    5031\n",
       "Name: count, dtype: int64"
      ]
     },
     "execution_count": 11,
     "metadata": {},
     "output_type": "execute_result"
    }
   ],
   "source": [
    "# Q61. Credit_Limit 컬럼값이 4500 이상인 경우 1 그외의 경우에는 모두 0으로 하는 newLimit 정의하고,\n",
    "#      newLimit 각 값들의 빈도수를 출력\n",
    "#-------------------------------------\n",
    "df['newLimit'] = df.Credit_Limit.map(lambda x : 1 if x>=4500 else 0)\n",
    "Q61 = df['newLimit'].value_counts()\n",
    "Q61"
   ]
  },
  {
   "cell_type": "code",
   "execution_count": 13,
   "metadata": {},
   "outputs": [
    {
     "data": {
      "text/plain": [
       "newState\n",
       "0    10120\n",
       "1        7\n",
       "Name: count, dtype: int64"
      ]
     },
     "execution_count": 13,
     "metadata": {},
     "output_type": "execute_result"
    }
   ],
   "source": [
    "# Q62. Marital_Status 컬럼값이 Married 이고 Card_Category 컬럼의 값이 Platinum인 경우 1 \n",
    "#      그외의 경우에는 모두 0으로 하는 newState컬럼을 정의하고\n",
    "#      newState의 각 값들의 빈도수를 출력\n",
    "#-------------------------------------\n",
    "def check(x):\n",
    "    if x.Marital_Status =='Married' and x.Card_Category =='Platinum':\n",
    "        return 1\n",
    "    else:\n",
    "        return 0\n",
    "df['newState'] = df.apply(check,axis=1)\n",
    "Q62  = df['newState'].value_counts()\n",
    "Q62"
   ]
  },
  {
   "cell_type": "code",
   "execution_count": 14,
   "metadata": {},
   "outputs": [
    {
     "data": {
      "text/plain": [
       "Gender\n",
       "female    5358\n",
       "male      4769\n",
       "Name: count, dtype: int64"
      ]
     },
     "execution_count": 14,
     "metadata": {},
     "output_type": "execute_result"
    }
   ],
   "source": [
    "# Q62. Gender 컬럼값 M인 경우 male F인 경우 female로 값을 변경하여 Gender 컬럼에 새롭게 정의하고\n",
    "#      각 value의 빈도를 출력\n",
    "#-------------------------------------\n",
    "def changeGender(x):\n",
    "    if x =='M':\n",
    "        return 'male'\n",
    "    else:\n",
    "        return 'female'\n",
    "df['Gender'] = df.Gender.apply(changeGender)\n",
    "Q62 = df['Gender'].value_counts()\n",
    "Q62"
   ]
  },
  {
   "cell_type": "code",
   "execution_count": null,
   "metadata": {},
   "outputs": [
    {
     "data": {
      "text/plain": [
       "0"
      ]
     },
     "metadata": {},
     "output_type": "display_data"
    }
   ],
   "source": [
    "# Q\n",
    "#-------------------------------------\n",
    "Q0"
   ]
  }
 ],
 "metadata": {
  "kernelspec": {
   "display_name": "EDA",
   "language": "python",
   "name": "python3"
  },
  "language_info": {
   "codemirror_mode": {
    "name": "ipython",
    "version": 3
   },
   "file_extension": ".py",
   "mimetype": "text/x-python",
   "name": "python",
   "nbconvert_exporter": "python",
   "pygments_lexer": "ipython3",
   "version": "3.9.1"
  }
 },
 "nbformat": 4,
 "nbformat_minor": 2
}
