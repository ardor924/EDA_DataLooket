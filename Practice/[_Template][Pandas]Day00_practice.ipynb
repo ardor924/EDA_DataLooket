{
 "cells": [
  {
   "cell_type": "markdown",
   "metadata": {},
   "source": [
    "## **Title Name : 판다스 문제풀이**\n",
    "\n",
    "<p style=\"font-weight:bolder; font-size : 21px\">\n",
    "    Step : Day0\n",
    "<p>\n",
    "<p style=\"font-weight:bolder; font-size : 21px\">\n",
    "    Content : 커스텀 문제풀이\n",
    "<p>\n",
    "<p style=\"font-weight:bolder; font-size : 21px\">\n",
    "   RegDate : 2023.MM.dd\n",
    "<p>\n",
    "\n",
    "------------------------------------------------------------"
   ]
  },
  {
   "cell_type": "markdown",
   "metadata": {},
   "source": [
    "\n",
    "<h2 style=\"font-weight:bolder; font-size : 25px\">\n",
    "문제풀이 : \n",
    "Q00 ~ Q99 \n",
    "<h2>\n",
    "\n",
    "------------------------------------------------------"
   ]
  },
  {
   "cell_type": "markdown",
   "metadata": {},
   "source": [
    "# 01. 환경설정\n",
    "---------------------------------------------"
   ]
  },
  {
   "cell_type": "code",
   "execution_count": null,
   "metadata": {},
   "outputs": [],
   "source": [
    "# 시스템\n",
    "import os\n",
    "import sys\n",
    "import random\n",
    "from time import time\n",
    "\n",
    "# 데이터분석 4종세트\n",
    "import numpy as np\n",
    "import pandas as pd\n",
    "import seaborn as sns\n",
    "import matplotlib.pyplot as plt\n",
    "%matplotlib inline\n",
    "\n",
    "# 시각화테마\n",
    "sns.set_theme(style='whitegrid')\n",
    "plt.style.use('dark_background')"
   ]
  },
  {
   "cell_type": "code",
   "execution_count": 22,
   "metadata": {},
   "outputs": [],
   "source": [
    "# 답안 초기화\n",
    "Q0 = 0"
   ]
  },
  {
   "cell_type": "markdown",
   "metadata": {},
   "source": [
    "# 02. 문제풀이\n",
    "------------------------------------------"
   ]
  },
  {
   "cell_type": "markdown",
   "metadata": {},
   "source": [
    "### 🔹 참고 사이트 링크\n",
    "------------------------------------------\n",
    "[참고 사이트 : 판다스 연습 튜토리얼](https://www.datamanim.com/dataset/99_pandas/pandasMain.html) "
   ]
  },
  {
   "cell_type": "code",
   "execution_count": 42,
   "metadata": {},
   "outputs": [
    {
     "data": {
      "text/plain": [
       "\"-------------------------------------------------------------------------------------------------------------------------------------------------------------------\\n🟨 데이터셋 URL 정보\\n\\n+ Q1~Q8     :\\n- info :롤 랭킹 데이터 : https://www.kaggle.com/datasnaek/league-of-legends\\n▶ url :\\n'https://raw.githubusercontent.com/Datamanim/pandas/main/lol.csv'\\n\\n+ Q9~Q99    : \\n- info : 제주 날씨,인구에 따른 교통량데이터 : 출처 제주 데이터 허브\\n▶ url : \\n'https://raw.githubusercontent.com/Datamanim/pandas/main/Jeju.csv'\\n\\n-------------------------------------------------------------------------------------------------------------------------------------------------------------------\""
      ]
     },
     "execution_count": 42,
     "metadata": {},
     "output_type": "execute_result"
    }
   ],
   "source": [
    "\"\"\"-------------------------------------------------------------------------------------------------------------------------------------------------------------------\n",
    "🟨 데이터셋 URL 정보\n",
    "\n",
    "+ Q00 ~ Q99 :\n",
    "- info      :\n",
    "\n",
    "▶ url       :\n",
    "'https://URL데이터 주소를 입력.csv'\n",
    "\n",
    "-------------------------------------------------------------------------------------------------------------------------------------------------------------------\"\"\""
   ]
  },
  {
   "cell_type": "markdown",
   "metadata": {},
   "source": [
    "#### 01 Getting & Knowing Data\n",
    "-----------------------------------------------------"
   ]
  },
  {
   "cell_type": "code",
   "execution_count": null,
   "metadata": {},
   "outputs": [
    {
     "data": {
      "text/plain": [
       "0"
      ]
     },
     "metadata": {},
     "output_type": "display_data"
    }
   ],
   "source": [
    "# Q\n",
    "#--------------------------------------\n",
    "Q0"
   ]
  }
 ],
 "metadata": {
  "kernelspec": {
   "display_name": "EDA",
   "language": "python",
   "name": "python3"
  },
  "language_info": {
   "codemirror_mode": {
    "name": "ipython",
    "version": 3
   },
   "file_extension": ".py",
   "mimetype": "text/x-python",
   "name": "python",
   "nbconvert_exporter": "python",
   "pygments_lexer": "ipython3",
   "version": "3.9.1"
  }
 },
 "nbformat": 4,
 "nbformat_minor": 2
}
